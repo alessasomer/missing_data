{
 "cells": [
  {
   "cell_type": "code",
   "execution_count": 3,
   "id": "d9f324da-6e5d-4955-814d-f37d86f4f494",
   "metadata": {},
   "outputs": [
    {
     "name": "stdin",
     "output_type": "stream",
     "text": [
      "Enter the path to your CSV file:  /Users/Alessa/Desktop/research/missing_data/datasets/spotify_data/high_popularity_spotify_data.csv\n"
     ]
    },
    {
     "name": "stdout",
     "output_type": "stream",
     "text": [
      "Updated dataset saved to: synthetic_mcar.csv\n"
     ]
    }
   ],
   "source": [
    "import pandas as pd\n",
    "import numpy as np\n",
    "\n",
    "# Step 1: Upload your CSV file\n",
    "file_path = \"/Users/Alessa/Desktop/research/missing_data/datasets/sampled_300_observations.csv\"  # Prompt user for file path\n",
    "df = pd.read_csv(file_path)\n",
    "\n",
    "# Step 2: Specify the columns for MCAR missingness\n",
    "columns_to_modify = [\"energy\", \"liveness\"]\n",
    "\n",
    "# Step 3: Introduce MCAR missingness\n",
    "np.random.seed(42)  # For reproducibility\n",
    "missingness_percentage = 0.3  # Percentage of missingness (adjustable)\n",
    "\n",
    "# Loop through the specified columns and introduce missingness\n",
    "for col in columns_to_modify:\n",
    "    if col in df.columns:\n",
    "        # Randomly select rows to set as missing for the current column\n",
    "        num_missing = int(missingness_percentage * len(df))\n",
    "        missing_indices = np.random.choice(df.index, size=num_missing, replace=False)\n",
    "        df.loc[missing_indices, col] = np.nan\n",
    "    else:\n",
    "        print(f\"Warning: Column '{col}' not found in the dataset. Skipping...\")\n",
    "\n",
    "# Step 4: Save the updated dataset to a new CSV file\n",
    "output_file_path = \"synthetic_mcar.csv\"\n",
    "df.to_csv(output_file_path, index=False)\n",
    "print(f\"Updated dataset saved to: {output_file_path}\")\n"
   ]
  },
  {
   "cell_type": "code",
   "execution_count": null,
   "id": "d8b2d4f4-52b5-47c9-a4c3-32ae1f72f2a8",
   "metadata": {},
   "outputs": [],
   "source": []
  }
 ],
 "metadata": {
  "kernelspec": {
   "display_name": "Python 3 (ipykernel)",
   "language": "python",
   "name": "python3"
  },
  "language_info": {
   "codemirror_mode": {
    "name": "ipython",
    "version": 3
   },
   "file_extension": ".py",
   "mimetype": "text/x-python",
   "name": "python",
   "nbconvert_exporter": "python",
   "pygments_lexer": "ipython3",
   "version": "3.8.15"
  }
 },
 "nbformat": 4,
 "nbformat_minor": 5
}
