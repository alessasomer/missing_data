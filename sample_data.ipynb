{
 "cells": [
  {
   "cell_type": "code",
   "execution_count": 2,
   "id": "7213ba29-093c-4ecc-b36e-0de9511bcbcc",
   "metadata": {},
   "outputs": [
    {
     "name": "stdin",
     "output_type": "stream",
     "text": [
      "Enter the path to your CSV file:  /Users/Alessa/Desktop/research/missing_data/datasets/spotify_data/high_popularity_spotify_data.csv\n"
     ]
    },
    {
     "name": "stdout",
     "output_type": "stream",
     "text": [
      "Random sample of 300 observations saved to: sampled_300_observations.csv\n"
     ]
    }
   ],
   "source": [
    "import pandas as pd\n",
    "import numpy as np\n",
    "\n",
    "# Step 1: Upload your CSV file\n",
    "file_path = input(\"Enter the path to your CSV file: \")  # Prompt user for file path\n",
    "df = pd.read_csv(file_path)\n",
    "\n",
    "# Step 2: Randomly sample 300 rows\n",
    "np.random.seed(42)  # For reproducibility\n",
    "sampled_df = df.sample(n=300, random_state=42)  # Randomly sample 300 rows\n",
    "\n",
    "# Step 3: Save the sampled dataset to a new CSV file\n",
    "output_file_path = \"sampled_300_observations.csv\"\n",
    "sampled_df.to_csv(output_file_path, index=False)\n",
    "print(f\"Random sample of 300 observations saved to: {output_file_path}\")"
   ]
  },
  {
   "cell_type": "code",
   "execution_count": null,
   "id": "91749870-2fe1-4ae9-8260-6350f8608999",
   "metadata": {},
   "outputs": [],
   "source": []
  }
 ],
 "metadata": {
  "kernelspec": {
   "display_name": "Python 3 (ipykernel)",
   "language": "python",
   "name": "python3"
  },
  "language_info": {
   "codemirror_mode": {
    "name": "ipython",
    "version": 3
   },
   "file_extension": ".py",
   "mimetype": "text/x-python",
   "name": "python",
   "nbconvert_exporter": "python",
   "pygments_lexer": "ipython3",
   "version": "3.8.15"
  }
 },
 "nbformat": 4,
 "nbformat_minor": 5
}
