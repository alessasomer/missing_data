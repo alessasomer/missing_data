{
 "cells": [
  {
   "cell_type": "code",
   "execution_count": 1,
   "id": "bd513a86-8b2f-4585-a23c-2e1d067bfe1e",
   "metadata": {},
   "outputs": [
    {
     "name": "stdout",
     "output_type": "stream",
     "text": [
      "Updated dataset saved to: synthetic_mnar.csv\n"
     ]
    }
   ],
   "source": [
    "import pandas as pd\n",
    "import numpy as np\n",
    "\n",
    "# Step 1: Upload your CSV file\n",
    "file_path = \"/Users/Alessa/Desktop/research/missing_data/datasets/sampled_300_observations.csv\"  # Prompt user for file path\n",
    "df = pd.read_csv(file_path)\n",
    "\n",
    "# Step 2: Specify the column for MNAR missingness\n",
    "target_column = \"liveness\"\n",
    "missingness_percentage = 0.3  # Percentage of missingness (adjustable)\n",
    "\n",
    "# Step 3: Introduce MNAR missingness\n",
    "np.random.seed(42)  # For reproducibility\n",
    "\n",
    "if target_column in df.columns:\n",
    "    # Define a condition for missingness based on the target column itself\n",
    "    condition = df[target_column] > df[target_column].median()\n",
    "    indices = df[condition].index\n",
    "    num_missing = int(missingness_percentage * len(indices))\n",
    "    missing_indices = np.random.choice(indices, size=num_missing, replace=False)\n",
    "    df.loc[missing_indices, target_column] = np.nan\n",
    "else:\n",
    "    print(f\"Warning: Column '{target_column}' not found in the dataset.\")\n",
    "\n",
    "# Step 4: Save the updated dataset to a new CSV file\n",
    "output_file_path = \"synthetic_mnar.csv\"\n",
    "df.to_csv(output_file_path, index=False)\n",
    "print(f\"Updated dataset saved to: {output_file_path}\")"
   ]
  },
  {
   "cell_type": "code",
   "execution_count": null,
   "id": "38c52764-e530-47c1-8537-4b5682c0dda1",
   "metadata": {},
   "outputs": [],
   "source": []
  }
 ],
 "metadata": {
  "kernelspec": {
   "display_name": "Python 3 (ipykernel)",
   "language": "python",
   "name": "python3"
  },
  "language_info": {
   "codemirror_mode": {
    "name": "ipython",
    "version": 3
   },
   "file_extension": ".py",
   "mimetype": "text/x-python",
   "name": "python",
   "nbconvert_exporter": "python",
   "pygments_lexer": "ipython3",
   "version": "3.8.15"
  }
 },
 "nbformat": 4,
 "nbformat_minor": 5
}
